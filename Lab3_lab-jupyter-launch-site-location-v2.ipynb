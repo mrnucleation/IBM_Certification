# find coordinate of the closet coastline
# e.g.,: Lat: 28.56367  Lon: -80.57163
# distance_coastline = calculate_distance(launch_site_lat, launch_site_lon, coastline_lat, coastline_lon)
railway_marker = [28.55752, -80.80155]
launch_coordinate = [28.57337, -80.64669]
distance = calculate_distance(railway_marker[0], railway_marker[1], launch_coordinate[0], launch_coordinate[1])
distance  # distance in km
